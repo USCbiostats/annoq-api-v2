{
 "cells": [
  {
   "cell_type": "code",
   "execution_count": 21,
   "metadata": {},
   "outputs": [],
   "source": [
    "from config.es import es\n",
    "from config.settings import settings\n",
    "from models.model import AnnoqData\n",
    "from itertools import islice"
   ]
  },
  {
   "cell_type": "code",
   "execution_count": 46,
   "metadata": {},
   "outputs": [
    {
     "data": {
      "text/plain": [
       "[AnnoqData(id='2:10662G>C', chr='2', pos=10662, ref='G', alt='C', ANNOVAR_ensembl_Effect='intergenic', ANNOVAR_ensembl_Transcript_ID=None, ANNOVAR_ensembl_Gene_ID=None, ANNOVAR_ensembl_summary='(0):intergenic(1)', SnpEff_ensembl_Effect='intergenic_region', SnpEff_ensembl_Effect_impact='MODIFIER'),\n",
       " AnnoqData(id='6:89961G>A', chr='6', pos=89961, ref='G', alt='A', ANNOVAR_ensembl_Effect='intergenic', ANNOVAR_ensembl_Transcript_ID=None, ANNOVAR_ensembl_Gene_ID=None, ANNOVAR_ensembl_summary='(0):intergenic(1)', SnpEff_ensembl_Effect='intergenic_region', SnpEff_ensembl_Effect_impact='MODIFIER'),\n",
       " AnnoqData(id='6:147651A>C', chr='6', pos=147651, ref='A', alt='C', ANNOVAR_ensembl_Effect='upstream', ANNOVAR_ensembl_Transcript_ID='ENST00000406017|ENST00000436899', ANNOVAR_ensembl_Gene_ID='ENSG00000217929|ENSG00000170590', ANNOVAR_ensembl_summary='ENSG00000170590(1):upstream(1)|ENSG00000217929(1):upstream(1)', SnpEff_ensembl_Effect='intergenic_region|upstream_gene_variant', SnpEff_ensembl_Effect_impact='MODIFIER'),\n",
       " AnnoqData(id='3:60383C>A', chr='3', pos=60383, ref='C', alt='A', ANNOVAR_ensembl_Effect='intergenic', ANNOVAR_ensembl_Transcript_ID=None, ANNOVAR_ensembl_Gene_ID=None, ANNOVAR_ensembl_summary='(0):intergenic(1)', SnpEff_ensembl_Effect='intergenic_region', SnpEff_ensembl_Effect_impact='MODIFIER'),\n",
       " AnnoqData(id='10:60494A>G', chr='10', pos=60494, ref='A', alt='G', ANNOVAR_ensembl_Effect='intergenic', ANNOVAR_ensembl_Transcript_ID=None, ANNOVAR_ensembl_Gene_ID=None, ANNOVAR_ensembl_summary='(0):intergenic(1)', SnpEff_ensembl_Effect='intergenic_region', SnpEff_ensembl_Effect_impact='MODIFIER'),\n",
       " AnnoqData(id='10:61020G>C', chr='10', pos=61020, ref='G', alt='C', ANNOVAR_ensembl_Effect='intergenic', ANNOVAR_ensembl_Transcript_ID=None, ANNOVAR_ensembl_Gene_ID=None, ANNOVAR_ensembl_summary='(0):intergenic(1)', SnpEff_ensembl_Effect='intergenic_region', SnpEff_ensembl_Effect_impact='MODIFIER'),\n",
       " AnnoqData(id='10:61576T>C', chr='10', pos=61576, ref='T', alt='C', ANNOVAR_ensembl_Effect='intergenic', ANNOVAR_ensembl_Transcript_ID=None, ANNOVAR_ensembl_Gene_ID=None, ANNOVAR_ensembl_summary='(0):intergenic(1)', SnpEff_ensembl_Effect='intergenic_region', SnpEff_ensembl_Effect_impact='MODIFIER'),\n",
       " AnnoqData(id='8:30529G>C', chr='8', pos=30529, ref='G', alt='C', ANNOVAR_ensembl_Effect='downstream', ANNOVAR_ensembl_Transcript_ID='ENST00000518652|ENST00000522481', ANNOVAR_ensembl_Gene_ID='ENSG00000253896', ANNOVAR_ensembl_summary='ENSG00000253896(2):downstream(2)', SnpEff_ensembl_Effect='intergenic_region|downstream_gene_variant', SnpEff_ensembl_Effect_impact='MODIFIER'),\n",
       " AnnoqData(id='8:31476T>G', chr='8', pos=31476, ref='T', alt='G', ANNOVAR_ensembl_Effect='downstream', ANNOVAR_ensembl_Transcript_ID='ENST00000518652|ENST00000522481', ANNOVAR_ensembl_Gene_ID='ENSG00000253896', ANNOVAR_ensembl_summary='ENSG00000253896(2):downstream(2)', SnpEff_ensembl_Effect='intergenic_region|downstream_gene_variant', SnpEff_ensembl_Effect_impact='MODIFIER'),\n",
       " AnnoqData(id='8:32224C>T', chr='8', pos=32224, ref='C', alt='T', ANNOVAR_ensembl_Effect='downstream', ANNOVAR_ensembl_Transcript_ID='ENST00000518652|ENST00000522481', ANNOVAR_ensembl_Gene_ID='ENSG00000253896', ANNOVAR_ensembl_summary='ENSG00000253896(2):downstream(2)', SnpEff_ensembl_Effect='intergenic_region|downstream_gene_variant', SnpEff_ensembl_Effect_impact='MODIFIER'),\n",
       " AnnoqData(id='9:10775G>C', chr='9', pos=10775, ref='G', alt='C', ANNOVAR_ensembl_Effect='upstream|downstream', ANNOVAR_ensembl_Transcript_ID='ENST00000421620|ENST00000426146|ENST00000330546|ENST00000399972|ENST00000442898|ENST00000442926', ANNOVAR_ensembl_Gene_ID='ENSG00000236875|ENSG00000181404', ANNOVAR_ensembl_summary='ENSG00000236875(2):upstream(2)|ENSG00000181404(4):downstream(4)', SnpEff_ensembl_Effect='intergenic_region|downstream_gene_variant|upstream_gene_variant', SnpEff_ensembl_Effect_impact='MODIFIER'),\n",
       " AnnoqData(id='1:54353C>A', chr='1', pos=54353, ref='C', alt='A', ANNOVAR_ensembl_Effect='ncRNA_intronic|downstream', ANNOVAR_ensembl_Transcript_ID='ENST00000594647|ENST00000606857', ANNOVAR_ensembl_Gene_ID='ENSG00000268020', ANNOVAR_ensembl_summary='ENSG00000268020(2):ncRNA_intronic(1)downstream(1)', SnpEff_ensembl_Effect='intron_variant|downstream_gene_variant', SnpEff_ensembl_Effect_impact='MODIFIER'),\n",
       " AnnoqData(id='5:12041A>T', chr='5', pos=12041, ref='A', alt='T', ANNOVAR_ensembl_Effect='intergenic', ANNOVAR_ensembl_Transcript_ID=None, ANNOVAR_ensembl_Gene_ID=None, ANNOVAR_ensembl_summary='(0):intergenic(1)', SnpEff_ensembl_Effect='intergenic_region', SnpEff_ensembl_Effect_impact='MODIFIER'),\n",
       " AnnoqData(id='4:11689C>T', chr='4', pos=11689, ref='C', alt='T', ANNOVAR_ensembl_Effect='intergenic', ANNOVAR_ensembl_Transcript_ID=None, ANNOVAR_ensembl_Gene_ID=None, ANNOVAR_ensembl_summary='(0):intergenic(1)', SnpEff_ensembl_Effect='intergenic_region', SnpEff_ensembl_Effect_impact='MODIFIER'),\n",
       " AnnoqData(id='7:14808T>C', chr='7', pos=14808, ref='T', alt='C', ANNOVAR_ensembl_Effect='intergenic', ANNOVAR_ensembl_Transcript_ID=None, ANNOVAR_ensembl_Gene_ID=None, ANNOVAR_ensembl_summary='(0):intergenic(1)', SnpEff_ensembl_Effect='intergenic_region', SnpEff_ensembl_Effect_impact='MODIFIER'),\n",
       " AnnoqData(id='7:20963C>G', chr='7', pos=20963, ref='C', alt='G', ANNOVAR_ensembl_Effect='intergenic', ANNOVAR_ensembl_Transcript_ID=None, ANNOVAR_ensembl_Gene_ID=None, ANNOVAR_ensembl_summary='(0):intergenic(1)', SnpEff_ensembl_Effect='intergenic_region', SnpEff_ensembl_Effect_impact='MODIFIER'),\n",
       " AnnoqData(id='7:30939T>C', chr='7', pos=30939, ref='T', alt='C', ANNOVAR_ensembl_Effect='intergenic', ANNOVAR_ensembl_Transcript_ID=None, ANNOVAR_ensembl_Gene_ID=None, ANNOVAR_ensembl_summary='(0):intergenic(1)', SnpEff_ensembl_Effect='intergenic_region', SnpEff_ensembl_Effect_impact='MODIFIER'),\n",
       " AnnoqData(id='7:31263A>G', chr='7', pos=31263, ref='A', alt='G', ANNOVAR_ensembl_Effect='intergenic', ANNOVAR_ensembl_Transcript_ID=None, ANNOVAR_ensembl_Gene_ID=None, ANNOVAR_ensembl_summary='(0):intergenic(1)', SnpEff_ensembl_Effect='intergenic_region', SnpEff_ensembl_Effect_impact='MODIFIER'),\n",
       " AnnoqData(id='2:10597A>C', chr='2', pos=10597, ref='A', alt='C', ANNOVAR_ensembl_Effect='intergenic', ANNOVAR_ensembl_Transcript_ID=None, ANNOVAR_ensembl_Gene_ID=None, ANNOVAR_ensembl_summary='(0):intergenic(1)', SnpEff_ensembl_Effect='intergenic_region', SnpEff_ensembl_Effect_impact='MODIFIER'),\n",
       " AnnoqData(id='2:10632C>A', chr='2', pos=10632, ref='C', alt='A', ANNOVAR_ensembl_Effect='intergenic', ANNOVAR_ensembl_Transcript_ID=None, ANNOVAR_ensembl_Gene_ID=None, ANNOVAR_ensembl_summary='(0):intergenic(1)', SnpEff_ensembl_Effect='intergenic_region', SnpEff_ensembl_Effect_impact='MODIFIER')]"
      ]
     },
     "execution_count": 46,
     "metadata": {},
     "output_type": "execute_result"
    }
   ],
   "source": [
    "async def get_annotations():\n",
    "    resp = await es.search(\n",
    "          index=settings.ES_INDEX,\n",
    "          query={\"match_all\": {}},\n",
    "          size=20,\n",
    "    )\n",
    "\n",
    "    results = [AnnoqData(id=hit['_id'], \n",
    "                         chr = hit['_source']['chr'],\n",
    "                         pos = hit['_source']['pos'],\n",
    "                         ref = hit['_source']['ref'],\n",
    "                         alt = hit['_source']['alt'],\n",
    "                         ANNOVAR_ensembl_Effect = hit['_source']['ANNOVAR_ensembl_Effect'],\n",
    "                         ANNOVAR_ensembl_Transcript_ID = hit['_source'].get('ANNOVAR_ensembl_Transcript_ID', None),\n",
    "                         ANNOVAR_ensembl_Gene_ID = hit['_source'].get('ANNOVAR_ensembl_Gene_ID', None),\n",
    "                         ANNOVAR_ensembl_summary = hit['_source']['ANNOVAR_ensembl_summary'],\n",
    "                         SnpEff_ensembl_Effect = hit['_source']['SnpEff_ensembl_Effect'],\n",
    "                         SnpEff_ensembl_Effect_impact = hit['_source']['SnpEff_ensembl_Effect_impact']) \n",
    "              for hit in resp['hits']['hits']]\n",
    "        \n",
    "    return results\n",
    "\n",
    "results = await get_annotations()\n",
    "results"
   ]
  },
  {
   "cell_type": "code",
   "execution_count": 41,
   "metadata": {},
   "outputs": [
    {
     "data": {
      "text/plain": [
       "AnnoqData(id='1:13380C>G', chr='1', pos=13380, ref='C', alt='G', ANNOVAR_ensembl_Effect='ncRNA_exonic|ncRNA_intronic|downstream', ANNOVAR_ensembl_Transcript_ID='ENST00000456328|ENST00000515242|ENST00000450305|ENST00000518655|ENST00000423562|ENST00000438504|ENST00000488147|ENST00000538476|ENST00000541675', ANNOVAR_ensembl_Gene_ID='ENSG00000223972|ENSG00000227232', ANNOVAR_ensembl_summary='ENSG00000223972(4):ncRNA_exonic(2)ncRNA_intronic(2)|ENSG00000227232(5):downstream(5)', SnpEff_ensembl_Effect='downstream_gene_variant|splice_region_variant&intron_variant|non_coding_transcript_exon_variant|intron_variant', SnpEff_ensembl_Effect_impact='MODIFIER|LOW')"
      ]
     },
     "execution_count": 41,
     "metadata": {},
     "output_type": "execute_result"
    }
   ],
   "source": [
    "async def search_by_ID(id:str):\n",
    "\n",
    "    response = await es.get(\n",
    "        index = settings.ES_INDEX,\n",
    "        id = id\n",
    "    )\n",
    "\n",
    "    results = AnnoqData(id=response['_id'], **dict(islice(response['_source'].items(), 10)))\n",
    "\n",
    "    return results\n",
    "\n",
    "results = await search_by_ID(\"1:13380C>G\")\n",
    "results"
   ]
  },
  {
   "cell_type": "code",
   "execution_count": null,
   "metadata": {},
   "outputs": [],
   "source": []
  }
 ],
 "metadata": {
  "kernelspec": {
   "display_name": "venv",
   "language": "python",
   "name": "python3"
  },
  "language_info": {
   "codemirror_mode": {
    "name": "ipython",
    "version": 3
   },
   "file_extension": ".py",
   "mimetype": "text/x-python",
   "name": "python",
   "nbconvert_exporter": "python",
   "pygments_lexer": "ipython3",
   "version": "3.10.12"
  }
 },
 "nbformat": 4,
 "nbformat_minor": 2
}
